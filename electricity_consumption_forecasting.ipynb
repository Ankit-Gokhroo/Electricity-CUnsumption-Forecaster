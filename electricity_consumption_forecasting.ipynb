{
  "nbformat": 4,
  "nbformat_minor": 0,
  "metadata": {
    "colab": {
      "name": "finalenergy",
      "version": "0.3.2",
      "provenance": [],
      "collapsed_sections": []
    },
    "kernelspec": {
      "name": "python3",
      "display_name": "Python 3"
    }
  },
  "cells": [
    {
      "cell_type": "markdown",
      "metadata": {
        "id": "miA3yiP9aKXY",
        "colab_type": "text"
      },
      "source": [
        "Mounting the drive"
      ]
    },
    {
      "cell_type": "code",
      "metadata": {
        "id": "GnGE6CziaS8B",
        "colab_type": "code",
        "outputId": "a23f3e6a-21cd-44ba-a407-5eef08a7e188",
        "colab": {
          "base_uri": "https://localhost:8080/",
          "height": 122
        }
      },
      "source": [
        "from google.colab import drive\n",
        "drive.mount('/content/drive')"
      ],
      "execution_count": 1,
      "outputs": [
        {
          "output_type": "stream",
          "text": [
            "Go to this URL in a browser: https://accounts.google.com/o/oauth2/auth?client_id=947318989803-6bn6qk8qdgf4n4g3pfee6491hc0brc4i.apps.googleusercontent.com&redirect_uri=urn%3Aietf%3Awg%3Aoauth%3A2.0%3Aoob&scope=email%20https%3A%2F%2Fwww.googleapis.com%2Fauth%2Fdocs.test%20https%3A%2F%2Fwww.googleapis.com%2Fauth%2Fdrive%20https%3A%2F%2Fwww.googleapis.com%2Fauth%2Fdrive.photos.readonly%20https%3A%2F%2Fwww.googleapis.com%2Fauth%2Fpeopleapi.readonly&response_type=code\n",
            "\n",
            "Enter your authorization code:\n",
            "··········\n",
            "Mounted at /content/drive\n"
          ],
          "name": "stdout"
        }
      ]
    },
    {
      "cell_type": "markdown",
      "metadata": {
        "id": "R8ALL85oaWxv",
        "colab_type": "text"
      },
      "source": [
        "# Importing Modules and Libraries"
      ]
    },
    {
      "cell_type": "code",
      "metadata": {
        "id": "2eYJkYC0aa8F",
        "colab_type": "code",
        "colab": {}
      },
      "source": [
        "import numpy as np\n",
        "import pandas as pd\n",
        "import matplotlib.pyplot as plt\n",
        "from matplotlib import pyplot\n",
        "import seaborn as sns\n",
        "from pandas.plotting import autocorrelation_plot\n",
        "from sklearn.metrics import mean_squared_error\n",
        "from sklearn.metrics import mean_absolute_error\n",
        "from math import sqrt\n",
        "from statsmodels.tsa.arima_model import ARIMA        #importing ARIMA "
      ],
      "execution_count": 0,
      "outputs": []
    },
    {
      "cell_type": "code",
      "metadata": {
        "id": "QLToXZMvbca_",
        "colab_type": "code",
        "colab": {}
      },
      "source": [
        "import os\n",
        "os.getcwd()\n",
        "os.chdir('/content/drive/My Drive/Rnn/energyforecast')"
      ],
      "execution_count": 0,
      "outputs": []
    },
    {
      "cell_type": "markdown",
      "metadata": {
        "id": "APLAMqbGboz-",
        "colab_type": "text"
      },
      "source": [
        "# Loading dataset from csv file"
      ]
    },
    {
      "cell_type": "code",
      "metadata": {
        "id": "VXEVOs8IbirL",
        "colab_type": "code",
        "colab": {}
      },
      "source": [
        "data=pd.read_csv('Power-Networks-LCL.csv')"
      ],
      "execution_count": 0,
      "outputs": []
    },
    {
      "cell_type": "markdown",
      "metadata": {
        "id": "x-KFyuNwbwq2",
        "colab_type": "text"
      },
      "source": [
        "# **Data Analysis** and Visualisation"
      ]
    },
    {
      "cell_type": "code",
      "metadata": {
        "id": "gCZCQZ4QbmS6",
        "colab_type": "code",
        "outputId": "3358ed53-0c53-4320-a4a0-e487606d3d91",
        "colab": {
          "base_uri": "https://localhost:8080/",
          "height": 204
        }
      },
      "source": [
        "data.head()"
      ],
      "execution_count": 6,
      "outputs": [
        {
          "output_type": "execute_result",
          "data": {
            "text/html": [
              "<div>\n",
              "<style scoped>\n",
              "    .dataframe tbody tr th:only-of-type {\n",
              "        vertical-align: middle;\n",
              "    }\n",
              "\n",
              "    .dataframe tbody tr th {\n",
              "        vertical-align: top;\n",
              "    }\n",
              "\n",
              "    .dataframe thead th {\n",
              "        text-align: right;\n",
              "    }\n",
              "</style>\n",
              "<table border=\"1\" class=\"dataframe\">\n",
              "  <thead>\n",
              "    <tr style=\"text-align: right;\">\n",
              "      <th></th>\n",
              "      <th>LCLid</th>\n",
              "      <th>stdorToU</th>\n",
              "      <th>DateTime</th>\n",
              "      <th>KWh</th>\n",
              "      <th>Acorn</th>\n",
              "      <th>Acorn_grouped</th>\n",
              "    </tr>\n",
              "  </thead>\n",
              "  <tbody>\n",
              "    <tr>\n",
              "      <th>0</th>\n",
              "      <td>MAC000002</td>\n",
              "      <td>Std</td>\n",
              "      <td>2012-10-12 00:30:00.0000000</td>\n",
              "      <td>0.0</td>\n",
              "      <td>ACORN-A</td>\n",
              "      <td>Affluent</td>\n",
              "    </tr>\n",
              "    <tr>\n",
              "      <th>1</th>\n",
              "      <td>MAC000002</td>\n",
              "      <td>Std</td>\n",
              "      <td>2012-10-12 01:00:00.0000000</td>\n",
              "      <td>0.0</td>\n",
              "      <td>ACORN-A</td>\n",
              "      <td>Affluent</td>\n",
              "    </tr>\n",
              "    <tr>\n",
              "      <th>2</th>\n",
              "      <td>MAC000002</td>\n",
              "      <td>Std</td>\n",
              "      <td>2012-10-12 01:30:00.0000000</td>\n",
              "      <td>0.0</td>\n",
              "      <td>ACORN-A</td>\n",
              "      <td>Affluent</td>\n",
              "    </tr>\n",
              "    <tr>\n",
              "      <th>3</th>\n",
              "      <td>MAC000002</td>\n",
              "      <td>Std</td>\n",
              "      <td>2012-10-12 02:00:00.0000000</td>\n",
              "      <td>0.0</td>\n",
              "      <td>ACORN-A</td>\n",
              "      <td>Affluent</td>\n",
              "    </tr>\n",
              "    <tr>\n",
              "      <th>4</th>\n",
              "      <td>MAC000002</td>\n",
              "      <td>Std</td>\n",
              "      <td>2012-10-12 02:30:00.0000000</td>\n",
              "      <td>0.0</td>\n",
              "      <td>ACORN-A</td>\n",
              "      <td>Affluent</td>\n",
              "    </tr>\n",
              "  </tbody>\n",
              "</table>\n",
              "</div>"
            ],
            "text/plain": [
              "       LCLid stdorToU                     DateTime  KWh    Acorn Acorn_grouped\n",
              "0  MAC000002      Std  2012-10-12 00:30:00.0000000  0.0  ACORN-A      Affluent\n",
              "1  MAC000002      Std  2012-10-12 01:00:00.0000000  0.0  ACORN-A      Affluent\n",
              "2  MAC000002      Std  2012-10-12 01:30:00.0000000  0.0  ACORN-A      Affluent\n",
              "3  MAC000002      Std  2012-10-12 02:00:00.0000000  0.0  ACORN-A      Affluent\n",
              "4  MAC000002      Std  2012-10-12 02:30:00.0000000  0.0  ACORN-A      Affluent"
            ]
          },
          "metadata": {
            "tags": []
          },
          "execution_count": 6
        }
      ]
    },
    {
      "cell_type": "code",
      "metadata": {
        "id": "ahOhndtocK1k",
        "colab_type": "code",
        "outputId": "2c744a42-b15c-4b09-9754-b83976a0f5b2",
        "colab": {
          "base_uri": "https://localhost:8080/",
          "height": 204
        }
      },
      "source": [
        "data.info()"
      ],
      "execution_count": 7,
      "outputs": [
        {
          "output_type": "stream",
          "text": [
            "<class 'pandas.core.frame.DataFrame'>\n",
            "RangeIndex: 999971 entries, 0 to 999970\n",
            "Data columns (total 6 columns):\n",
            "LCLid            999971 non-null object\n",
            "stdorToU         999971 non-null object\n",
            "DateTime         999971 non-null object\n",
            "KWh              999971 non-null float64\n",
            "Acorn            999971 non-null object\n",
            "Acorn_grouped    999971 non-null object\n",
            "dtypes: float64(1), object(5)\n",
            "memory usage: 45.8+ MB\n"
          ],
          "name": "stdout"
        }
      ]
    },
    {
      "cell_type": "code",
      "metadata": {
        "id": "NbVRMwznceiH",
        "colab_type": "code",
        "outputId": "245a0f0c-d9f6-40a0-d1ef-7970c6195d03",
        "colab": {
          "base_uri": "https://localhost:8080/",
          "height": 297
        }
      },
      "source": [
        "data.describe()"
      ],
      "execution_count": 8,
      "outputs": [
        {
          "output_type": "execute_result",
          "data": {
            "text/html": [
              "<div>\n",
              "<style scoped>\n",
              "    .dataframe tbody tr th:only-of-type {\n",
              "        vertical-align: middle;\n",
              "    }\n",
              "\n",
              "    .dataframe tbody tr th {\n",
              "        vertical-align: top;\n",
              "    }\n",
              "\n",
              "    .dataframe thead th {\n",
              "        text-align: right;\n",
              "    }\n",
              "</style>\n",
              "<table border=\"1\" class=\"dataframe\">\n",
              "  <thead>\n",
              "    <tr style=\"text-align: right;\">\n",
              "      <th></th>\n",
              "      <th>KWh</th>\n",
              "    </tr>\n",
              "  </thead>\n",
              "  <tbody>\n",
              "    <tr>\n",
              "      <th>count</th>\n",
              "      <td>999971.000000</td>\n",
              "    </tr>\n",
              "    <tr>\n",
              "      <th>mean</th>\n",
              "      <td>0.239580</td>\n",
              "    </tr>\n",
              "    <tr>\n",
              "      <th>std</th>\n",
              "      <td>0.387533</td>\n",
              "    </tr>\n",
              "    <tr>\n",
              "      <th>min</th>\n",
              "      <td>0.000000</td>\n",
              "    </tr>\n",
              "    <tr>\n",
              "      <th>25%</th>\n",
              "      <td>0.060000</td>\n",
              "    </tr>\n",
              "    <tr>\n",
              "      <th>50%</th>\n",
              "      <td>0.129000</td>\n",
              "    </tr>\n",
              "    <tr>\n",
              "      <th>75%</th>\n",
              "      <td>0.255000</td>\n",
              "    </tr>\n",
              "    <tr>\n",
              "      <th>max</th>\n",
              "      <td>6.528000</td>\n",
              "    </tr>\n",
              "  </tbody>\n",
              "</table>\n",
              "</div>"
            ],
            "text/plain": [
              "                 KWh\n",
              "count  999971.000000\n",
              "mean        0.239580\n",
              "std         0.387533\n",
              "min         0.000000\n",
              "25%         0.060000\n",
              "50%         0.129000\n",
              "75%         0.255000\n",
              "max         6.528000"
            ]
          },
          "metadata": {
            "tags": []
          },
          "execution_count": 8
        }
      ]
    },
    {
      "cell_type": "code",
      "metadata": {
        "id": "QQieWbiKchL3",
        "colab_type": "code",
        "outputId": "a43d2774-5c68-4a22-dd83-cc58ec2273da",
        "colab": {
          "base_uri": "https://localhost:8080/",
          "height": 544
        }
      },
      "source": [
        "LCLid_Count=data['LCLid'].value_counts()\n",
        "LCLid_Count"
      ],
      "execution_count": 9,
      "outputs": [
        {
          "output_type": "execute_result",
          "data": {
            "text/plain": [
              "MAC000018    39081\n",
              "MAC000020    39078\n",
              "MAC000021    39078\n",
              "MAC000022    39071\n",
              "MAC000033    39070\n",
              "MAC000019    39070\n",
              "MAC000034    39069\n",
              "MAC000023    39068\n",
              "MAC000032    39068\n",
              "MAC000027    39068\n",
              "MAC000030    39066\n",
              "MAC000025    39064\n",
              "MAC000026    39064\n",
              "MAC000029    39063\n",
              "MAC000024    39026\n",
              "MAC000035    39023\n",
              "MAC000006    36460\n",
              "MAC000003    35468\n",
              "MAC000028    32157\n",
              "MAC000004    31676\n",
              "MAC000013    29613\n",
              "MAC000008    26012\n",
              "MAC000009    25237\n",
              "MAC000010    25048\n",
              "MAC000007    25045\n",
              "MAC000012    24669\n",
              "MAC000002    24157\n",
              "MAC000011    23704\n",
              "MAC000016    19523\n",
              "MAC000036    16175\n",
              "Name: LCLid, dtype: int64"
            ]
          },
          "metadata": {
            "tags": []
          },
          "execution_count": 9
        }
      ]
    },
    {
      "cell_type": "markdown",
      "metadata": {
        "id": "TMk7jlISdByA",
        "colab_type": "text"
      },
      "source": [
        "According to problem statement,we need to forecast energy usage of top 3 households based on their samples.So here we find 'MAC000018','MAC000020' and 'MAC000021' are top 3 households."
      ]
    },
    {
      "cell_type": "code",
      "metadata": {
        "id": "YEt7XxhXc9EN",
        "colab_type": "code",
        "colab": {}
      },
      "source": [
        "data_18=data[data['LCLid']=='MAC000018']\n",
        "data_20=data[data['LCLid']=='MAC000020']\n",
        "data_21=data[data['LCLid']=='MAC000021']"
      ],
      "execution_count": 0,
      "outputs": []
    },
    {
      "cell_type": "code",
      "metadata": {
        "id": "S2WVx19TeIlX",
        "colab_type": "code",
        "colab": {}
      },
      "source": [
        "data_combined=pd.DataFrame()"
      ],
      "execution_count": 0,
      "outputs": []
    },
    {
      "cell_type": "code",
      "metadata": {
        "id": "V14txColdrrX",
        "colab_type": "code",
        "colab": {}
      },
      "source": [
        "data_combined=data_combined.append(data_18)\n",
        "data_combined=data_combined.append(data_20)\n",
        "data_combined=data_combined.append(data_21)"
      ],
      "execution_count": 0,
      "outputs": []
    },
    {
      "cell_type": "code",
      "metadata": {
        "id": "EW0MGgnTeA0i",
        "colab_type": "code",
        "outputId": "3c735ab9-2a28-4bb8-bac8-e77292c9a1e2",
        "colab": {
          "base_uri": "https://localhost:8080/",
          "height": 85
        }
      },
      "source": [
        "data_combined['LCLid'].value_counts()"
      ],
      "execution_count": 13,
      "outputs": [
        {
          "output_type": "execute_result",
          "data": {
            "text/plain": [
              "MAC000018    39081\n",
              "MAC000020    39078\n",
              "MAC000021    39078\n",
              "Name: LCLid, dtype: int64"
            ]
          },
          "metadata": {
            "tags": []
          },
          "execution_count": 13
        }
      ]
    },
    {
      "cell_type": "code",
      "metadata": {
        "id": "bgLUAFpXec3t",
        "colab_type": "code",
        "outputId": "f1a7af91-16e4-4755-f43c-e39e82ee5805",
        "colab": {
          "base_uri": "https://localhost:8080/",
          "height": 337
        }
      },
      "source": [
        "fig = plt.figure(figsize=(10,5))\n",
        "\n",
        "sns.countplot(x='LCLid',data=data_combined)\n",
        "plt.show()"
      ],
      "execution_count": 14,
      "outputs": [
        {
          "output_type": "display_data",
          "data": {
            "image/png": "[encoded data removed]",
            "text/plain": [
              "<Figure size 720x360 with 1 Axes>"
            ]
          },
          "metadata": {
            "tags": []
          }
        }
      ]
    },
    {
      "cell_type": "code",
      "metadata": {
        "id": "KgDDl2Zof7Uf",
        "colab_type": "code",
        "outputId": "3fd18577-fb35-4d8b-c5ed-8529fbedda8d",
        "colab": {
          "base_uri": "https://localhost:8080/",
          "height": 68
        }
      },
      "source": [
        "data_combined['Acorn'].value_counts()"
      ],
      "execution_count": 15,
      "outputs": [
        {
          "output_type": "execute_result",
          "data": {
            "text/plain": [
              "ACORN-E    78159\n",
              "ACORN-J    39078\n",
              "Name: Acorn, dtype: int64"
            ]
          },
          "metadata": {
            "tags": []
          },
          "execution_count": 15
        }
      ]
    },
    {
      "cell_type": "code",
      "metadata": {
        "id": "qrytUv0hgJfi",
        "colab_type": "code",
        "outputId": "d635efb2-f051-40e8-cc55-bd6d176e101e",
        "colab": {
          "base_uri": "https://localhost:8080/",
          "height": 337
        }
      },
      "source": [
        "fig = plt.figure(figsize=(10,5))\n",
        "\n",
        "sns.countplot(x='Acorn',data=data_combined)\n",
        "plt.show()"
      ],
      "execution_count": 16,
      "outputs": [
        {
          "output_type": "display_data",
          "data": {
            "image/png": "[encoded data removed]",
            "text/plain": [
              "<Figure size 720x360 with 1 Axes>"
            ]
          },
          "metadata": {
            "tags": []
          }
        }
      ]
    },
    {
      "cell_type": "code",
      "metadata": {
        "id": "4_HfOJ_Sf7ck",
        "colab_type": "code",
        "outputId": "7169897e-32b9-4b42-891a-24724c2c9455",
        "colab": {
          "base_uri": "https://localhost:8080/",
          "height": 68
        }
      },
      "source": [
        "data_combined['Acorn_grouped'].value_counts()"
      ],
      "execution_count": 17,
      "outputs": [
        {
          "output_type": "execute_result",
          "data": {
            "text/plain": [
              "Affluent       78159\n",
              "Comfortable    39078\n",
              "Name: Acorn_grouped, dtype: int64"
            ]
          },
          "metadata": {
            "tags": []
          },
          "execution_count": 17
        }
      ]
    },
    {
      "cell_type": "code",
      "metadata": {
        "id": "KA_6Hp23gKLZ",
        "colab_type": "code",
        "outputId": "ea8dd8f1-975b-4e3d-83cf-3fe97bdcb471",
        "colab": {
          "base_uri": "https://localhost:8080/",
          "height": 338
        }
      },
      "source": [
        "fig = plt.figure(figsize=(10,5))\n",
        "\n",
        "sns.countplot(x='Acorn_grouped',data=data_combined)\n",
        "plt.show()"
      ],
      "execution_count": 18,
      "outputs": [
        {
          "output_type": "display_data",
          "data": {
            "image/png": "[encoded data removed]",
            "text/plain": [
              "<Figure size 720x360 with 1 Axes>"
            ]
          },
          "metadata": {
            "tags": []
          }
        }
      ]
    },
    {
      "cell_type": "markdown",
      "metadata": {
        "id": "7MqXBvjvfYUA",
        "colab_type": "text"
      },
      "source": [
        "# Data PreProcessing"
      ]
    },
    {
      "cell_type": "code",
      "metadata": {
        "id": "YywUU4a-e_m4",
        "colab_type": "code",
        "outputId": "f10491e6-5eba-4114-be8b-bfacc491b345",
        "colab": {
          "base_uri": "https://localhost:8080/",
          "height": 136
        }
      },
      "source": [
        "data_combined.isnull().sum()"
      ],
      "execution_count": 19,
      "outputs": [
        {
          "output_type": "execute_result",
          "data": {
            "text/plain": [
              "LCLid            0\n",
              "stdorToU         0\n",
              "DateTime         0\n",
              "KWh              0\n",
              "Acorn            0\n",
              "Acorn_grouped    0\n",
              "dtype: int64"
            ]
          },
          "metadata": {
            "tags": []
          },
          "execution_count": 19
        }
      ]
    },
    {
      "cell_type": "code",
      "metadata": {
        "id": "Fs3412RqfdV5",
        "colab_type": "code",
        "outputId": "ed8bff2a-f574-49ec-d11b-d8b4889e0357",
        "colab": {
          "base_uri": "https://localhost:8080/",
          "height": 136
        }
      },
      "source": [
        "data.isnull().sum()"
      ],
      "execution_count": 20,
      "outputs": [
        {
          "output_type": "execute_result",
          "data": {
            "text/plain": [
              "LCLid            0\n",
              "stdorToU         0\n",
              "DateTime         0\n",
              "KWh              0\n",
              "Acorn            0\n",
              "Acorn_grouped    0\n",
              "dtype: int64"
            ]
          },
          "metadata": {
            "tags": []
          },
          "execution_count": 20
        }
      ]
    },
    {
      "cell_type": "markdown",
      "metadata": {
        "id": "002jqwpQSG0k",
        "colab_type": "text"
      },
      "source": [
        "There is no null values in data."
      ]
    },
    {
      "cell_type": "code",
      "metadata": {
        "id": "lmVnlHewfwya",
        "colab_type": "code",
        "colab": {}
      },
      "source": [
        "data_18_processed=data_18[['KWh','DateTime']]\n",
        "data_20_processed=data_20[['KWh','DateTime']]\n",
        "data_21_processed=data_21[['KWh','DateTime']]"
      ],
      "execution_count": 0,
      "outputs": []
    },
    {
      "cell_type": "code",
      "metadata": {
        "id": "kuW3J-RZgqa2",
        "colab_type": "code",
        "outputId": "6435311c-d212-49fc-fd29-32a198674e51",
        "colab": {
          "base_uri": "https://localhost:8080/",
          "height": 204
        }
      },
      "source": [
        "data_18_processed.head()"
      ],
      "execution_count": 22,
      "outputs": [
        {
          "output_type": "execute_result",
          "data": {
            "text/html": [
              "<div>\n",
              "<style scoped>\n",
              "    .dataframe tbody tr th:only-of-type {\n",
              "        vertical-align: middle;\n",
              "    }\n",
              "\n",
              "    .dataframe tbody tr th {\n",
              "        vertical-align: top;\n",
              "    }\n",
              "\n",
              "    .dataframe thead th {\n",
              "        text-align: right;\n",
              "    }\n",
              "</style>\n",
              "<table border=\"1\" class=\"dataframe\">\n",
              "  <thead>\n",
              "    <tr style=\"text-align: right;\">\n",
              "      <th></th>\n",
              "      <th>KWh</th>\n",
              "      <th>DateTime</th>\n",
              "    </tr>\n",
              "  </thead>\n",
              "  <tbody>\n",
              "    <tr>\n",
              "      <th>326612</th>\n",
              "      <td>0.303</td>\n",
              "      <td>2011-12-07 09:30:00.0000000</td>\n",
              "    </tr>\n",
              "    <tr>\n",
              "      <th>326613</th>\n",
              "      <td>0.200</td>\n",
              "      <td>2011-12-07 10:00:00.0000000</td>\n",
              "    </tr>\n",
              "    <tr>\n",
              "      <th>326614</th>\n",
              "      <td>0.218</td>\n",
              "      <td>2011-12-07 10:30:00.0000000</td>\n",
              "    </tr>\n",
              "    <tr>\n",
              "      <th>326615</th>\n",
              "      <td>0.209</td>\n",
              "      <td>2011-12-07 11:00:00.0000000</td>\n",
              "    </tr>\n",
              "    <tr>\n",
              "      <th>326616</th>\n",
              "      <td>0.210</td>\n",
              "      <td>2011-12-07 11:30:00.0000000</td>\n",
              "    </tr>\n",
              "  </tbody>\n",
              "</table>\n",
              "</div>"
            ],
            "text/plain": [
              "          KWh                     DateTime\n",
              "326612  0.303  2011-12-07 09:30:00.0000000\n",
              "326613  0.200  2011-12-07 10:00:00.0000000\n",
              "326614  0.218  2011-12-07 10:30:00.0000000\n",
              "326615  0.209  2011-12-07 11:00:00.0000000\n",
              "326616  0.210  2011-12-07 11:30:00.0000000"
            ]
          },
          "metadata": {
            "tags": []
          },
          "execution_count": 22
        }
      ]
    },
    {
      "cell_type": "code",
      "metadata": {
        "id": "4lGR-NqHgun0",
        "colab_type": "code",
        "outputId": "9ce50485-16a0-4825-f169-5960cb2a3821",
        "colab": {
          "base_uri": "https://localhost:8080/",
          "height": 204
        }
      },
      "source": [
        "data_20_processed.head()"
      ],
      "execution_count": 23,
      "outputs": [
        {
          "output_type": "execute_result",
          "data": {
            "text/html": [
              "<div>\n",
              "<style scoped>\n",
              "    .dataframe tbody tr th:only-of-type {\n",
              "        vertical-align: middle;\n",
              "    }\n",
              "\n",
              "    .dataframe tbody tr th {\n",
              "        vertical-align: top;\n",
              "    }\n",
              "\n",
              "    .dataframe thead th {\n",
              "        text-align: right;\n",
              "    }\n",
              "</style>\n",
              "<table border=\"1\" class=\"dataframe\">\n",
              "  <thead>\n",
              "    <tr style=\"text-align: right;\">\n",
              "      <th></th>\n",
              "      <th>KWh</th>\n",
              "      <th>DateTime</th>\n",
              "    </tr>\n",
              "  </thead>\n",
              "  <tbody>\n",
              "    <tr>\n",
              "      <th>404763</th>\n",
              "      <td>0.275</td>\n",
              "      <td>2011-12-07 09:30:00.0000000</td>\n",
              "    </tr>\n",
              "    <tr>\n",
              "      <th>404764</th>\n",
              "      <td>0.231</td>\n",
              "      <td>2011-12-07 10:00:00.0000000</td>\n",
              "    </tr>\n",
              "    <tr>\n",
              "      <th>404765</th>\n",
              "      <td>0.204</td>\n",
              "      <td>2011-12-07 10:30:00.0000000</td>\n",
              "    </tr>\n",
              "    <tr>\n",
              "      <th>404766</th>\n",
              "      <td>0.194</td>\n",
              "      <td>2011-12-07 11:00:00.0000000</td>\n",
              "    </tr>\n",
              "    <tr>\n",
              "      <th>404767</th>\n",
              "      <td>0.317</td>\n",
              "      <td>2011-12-07 11:30:00.0000000</td>\n",
              "    </tr>\n",
              "  </tbody>\n",
              "</table>\n",
              "</div>"
            ],
            "text/plain": [
              "          KWh                     DateTime\n",
              "404763  0.275  2011-12-07 09:30:00.0000000\n",
              "404764  0.231  2011-12-07 10:00:00.0000000\n",
              "404765  0.204  2011-12-07 10:30:00.0000000\n",
              "404766  0.194  2011-12-07 11:00:00.0000000\n",
              "404767  0.317  2011-12-07 11:30:00.0000000"
            ]
          },
          "metadata": {
            "tags": []
          },
          "execution_count": 23
        }
      ]
    },
    {
      "cell_type": "code",
      "metadata": {
        "id": "e4r-JdFCgypT",
        "colab_type": "code",
        "outputId": "4a1c4db4-8e54-4cbb-d6e8-74a834c2971e",
        "colab": {
          "base_uri": "https://localhost:8080/",
          "height": 204
        }
      },
      "source": [
        "data_21_processed.head()"
      ],
      "execution_count": 24,
      "outputs": [
        {
          "output_type": "execute_result",
          "data": {
            "text/html": [
              "<div>\n",
              "<style scoped>\n",
              "    .dataframe tbody tr th:only-of-type {\n",
              "        vertical-align: middle;\n",
              "    }\n",
              "\n",
              "    .dataframe tbody tr th {\n",
              "        vertical-align: top;\n",
              "    }\n",
              "\n",
              "    .dataframe thead th {\n",
              "        text-align: right;\n",
              "    }\n",
              "</style>\n",
              "<table border=\"1\" class=\"dataframe\">\n",
              "  <thead>\n",
              "    <tr style=\"text-align: right;\">\n",
              "      <th></th>\n",
              "      <th>KWh</th>\n",
              "      <th>DateTime</th>\n",
              "    </tr>\n",
              "  </thead>\n",
              "  <tbody>\n",
              "    <tr>\n",
              "      <th>443841</th>\n",
              "      <td>0.491</td>\n",
              "      <td>2011-12-07 10:00:00.0000000</td>\n",
              "    </tr>\n",
              "    <tr>\n",
              "      <th>443842</th>\n",
              "      <td>0.346</td>\n",
              "      <td>2011-12-07 10:30:00.0000000</td>\n",
              "    </tr>\n",
              "    <tr>\n",
              "      <th>443843</th>\n",
              "      <td>0.473</td>\n",
              "      <td>2011-12-07 11:00:00.0000000</td>\n",
              "    </tr>\n",
              "    <tr>\n",
              "      <th>443844</th>\n",
              "      <td>0.456</td>\n",
              "      <td>2011-12-07 11:30:00.0000000</td>\n",
              "    </tr>\n",
              "    <tr>\n",
              "      <th>443845</th>\n",
              "      <td>0.432</td>\n",
              "      <td>2011-12-07 12:00:00.0000000</td>\n",
              "    </tr>\n",
              "  </tbody>\n",
              "</table>\n",
              "</div>"
            ],
            "text/plain": [
              "          KWh                     DateTime\n",
              "443841  0.491  2011-12-07 10:00:00.0000000\n",
              "443842  0.346  2011-12-07 10:30:00.0000000\n",
              "443843  0.473  2011-12-07 11:00:00.0000000\n",
              "443844  0.456  2011-12-07 11:30:00.0000000\n",
              "443845  0.432  2011-12-07 12:00:00.0000000"
            ]
          },
          "metadata": {
            "tags": []
          },
          "execution_count": 24
        }
      ]
    },
    {
      "cell_type": "code",
      "metadata": {
        "id": "a49f7rmIg0DG",
        "colab_type": "code",
        "colab": {}
      },
      "source": [
        "data_21_processed['DateTime'] = pd.to_datetime(data_21_processed['DateTime']) #to_datetime() method helps to convert string Date time into Python Date time object.\n",
        "data_20_processed['DateTime'] = pd.to_datetime(data_20_processed['DateTime'])\n",
        "data_18_processed['DateTime'] = pd.to_datetime(data_18_processed['DateTime'])"
      ],
      "execution_count": 0,
      "outputs": []
    },
    {
      "cell_type": "markdown",
      "metadata": {
        "id": "ULnKxs3qTLFB",
        "colab_type": "text"
      },
      "source": [
        "seperate DateTime column into date and time"
      ]
    },
    {
      "cell_type": "code",
      "metadata": {
        "id": "oA72--2_hDH8",
        "colab_type": "code",
        "colab": {}
      },
      "source": [
        "data_18_processed['Time'],data_18_processed['Date']= data_18_processed['DateTime'].apply(lambda x:x.time()), data_18_processed['DateTime'].apply(lambda x:x.date())\n",
        "data_20_processed['Time'],data_20_processed['Date']= data_20_processed['DateTime'].apply(lambda x:x.time()), data_20_processed['DateTime'].apply(lambda x:x.date())\n",
        "data_21_processed['Time'],data_21_processed['Date']= data_21_processed['DateTime'].apply(lambda x:x.time()), data_21_processed['DateTime'].apply(lambda x:x.date())"
      ],
      "execution_count": 0,
      "outputs": []
    },
    {
      "cell_type": "markdown",
      "metadata": {
        "id": "eRFKNeikTVWK",
        "colab_type": "text"
      },
      "source": [
        "making Date column as index"
      ]
    },
    {
      "cell_type": "code",
      "metadata": {
        "id": "O4Krly6ehUEY",
        "colab_type": "code",
        "colab": {}
      },
      "source": [
        "data_18_processed.set_index('Date',inplace=True)\n",
        "data_20_processed.set_index('Date',inplace=True)\n",
        "data_21_processed.set_index('Date',inplace=True)"
      ],
      "execution_count": 0,
      "outputs": []
    },
    {
      "cell_type": "markdown",
      "metadata": {
        "id": "JwI89IY_TaKg",
        "colab_type": "text"
      },
      "source": [
        "Took only KWh column in data"
      ]
    },
    {
      "cell_type": "code",
      "metadata": {
        "id": "Ng1h0DDzhhMB",
        "colab_type": "code",
        "colab": {}
      },
      "source": [
        "data_18_processed=data_18_processed['KWh']\n",
        "data_20_processed=data_20_processed['KWh']\n",
        "data_21_processed=data_21_processed['KWh']"
      ],
      "execution_count": 0,
      "outputs": []
    },
    {
      "cell_type": "code",
      "metadata": {
        "id": "_8v4gYYSh6Av",
        "colab_type": "code",
        "outputId": "f78ed022-a466-4a99-9056-6a51bd281022",
        "colab": {
          "base_uri": "https://localhost:8080/",
          "height": 136
        }
      },
      "source": [
        "data_18_processed.head()"
      ],
      "execution_count": 31,
      "outputs": [
        {
          "output_type": "execute_result",
          "data": {
            "text/plain": [
              "Date\n",
              "2011-12-07    0.303\n",
              "2011-12-07    0.200\n",
              "2011-12-07    0.218\n",
              "2011-12-07    0.209\n",
              "2011-12-07    0.210\n",
              "Name: KWh, dtype: float64"
            ]
          },
          "metadata": {
            "tags": []
          },
          "execution_count": 31
        }
      ]
    },
    {
      "cell_type": "markdown",
      "metadata": {
        "id": "rwrVfn_9Tjbu",
        "colab_type": "text"
      },
      "source": [
        "Visuaisation of data spreaded of household MAC000018."
      ]
    },
    {
      "cell_type": "code",
      "metadata": {
        "id": "oenT10mgh-Ob",
        "colab_type": "code",
        "outputId": "2f435510-4ac5-4440-f1ae-4f421c74bbe7",
        "colab": {
          "base_uri": "https://localhost:8080/",
          "height": 609
        }
      },
      "source": [
        "fig = plt.figure(figsize=(20,10))\n",
        "data_18_processed.plot()\n",
        "pyplot.show()"
      ],
      "execution_count": 32,
      "outputs": [
        {
          "output_type": "display_data",
          "data": {
            "image/png": "[encoded data removed]",
            "text/plain": [
              "<Figure size 1440x720 with 1 Axes>"
            ]
          },
          "metadata": {
            "tags": []
          }
        }
      ]
    },
    {
      "cell_type": "markdown",
      "metadata": {
        "id": "EmI0nAz_T_nI",
        "colab_type": "text"
      },
      "source": [
        "Visuaisation of data spreaded of household MAC000020."
      ]
    },
    {
      "cell_type": "code",
      "metadata": {
        "id": "_vesKvV8iPNF",
        "colab_type": "code",
        "outputId": "bb1238d8-ee0c-4f27-b0ef-720715d40d46",
        "colab": {
          "base_uri": "https://localhost:8080/",
          "height": 609
        }
      },
      "source": [
        "fig = plt.figure(figsize=(20,10))\n",
        "data_20_processed.plot()\n",
        "pyplot.show()"
      ],
      "execution_count": 33,
      "outputs": [
        {
          "output_type": "display_data",
          "data": {
            "image/png": "[encoded data removed]",
            "text/plain": [
              "<Figure size 1440x720 with 1 Axes>"
            ]
          },
          "metadata": {
            "tags": []
          }
        }
      ]
    },
    {
      "cell_type": "markdown",
      "metadata": {
        "id": "ILxwwHy1UEX1",
        "colab_type": "text"
      },
      "source": [
        "Visuaisation of data spreaded of household MAC000021."
      ]
    },
    {
      "cell_type": "code",
      "metadata": {
        "id": "NJK1f6WbifL_",
        "colab_type": "code",
        "outputId": "d6e7a2aa-eae2-46f4-bdd5-f09a7c42d40b",
        "colab": {
          "base_uri": "https://localhost:8080/",
          "height": 609
        }
      },
      "source": [
        "fig = plt.figure(figsize=(20,10))\n",
        "data_21_processed.plot()\n",
        "pyplot.show()"
      ],
      "execution_count": 34,
      "outputs": [
        {
          "output_type": "display_data",
          "data": {
            "image/png": "[encoded data removed]",
            "text/plain": [
              "<Figure size 1440x720 with 1 Axes>"
            ]
          },
          "metadata": {
            "tags": []
          }
        }
      ]
    },
    {
      "cell_type": "markdown",
      "metadata": {
        "id": "NQUmjmy3UjK6",
        "colab_type": "text"
      },
      "source": [
        "Autocorrelation for a large number of lags in the time series."
      ]
    },
    {
      "cell_type": "code",
      "metadata": {
        "id": "E28awKexihzJ",
        "colab_type": "code",
        "outputId": "dd2b1e28-212f-42ad-a8a0-9c7ab9d9e8a6",
        "colab": {
          "base_uri": "https://localhost:8080/",
          "height": 283
        }
      },
      "source": [
        "autocorrelation_plot(data_18_processed)\n",
        "pyplot.show()"
      ],
      "execution_count": 35,
      "outputs": [
        {
          "output_type": "display_data",
          "data": {
            "image/png": "[encoded data removed]",
            "text/plain": [
              "<Figure size 432x288 with 1 Axes>"
            ]
          },
          "metadata": {
            "tags": []
          }
        }
      ]
    },
    {
      "cell_type": "code",
      "metadata": {
        "id": "-sKgvuOwixr9",
        "colab_type": "code",
        "outputId": "5d84e5d1-72f9-45ac-df0e-9ce4dbdc8d94",
        "colab": {
          "base_uri": "https://localhost:8080/",
          "height": 283
        }
      },
      "source": [
        "autocorrelation_plot(data_20_processed)\n",
        "pyplot.show()"
      ],
      "execution_count": 36,
      "outputs": [
        {
          "output_type": "display_data",
          "data": {
            "image/png": "[encoded data removed]",
            "text/plain": [
              "<Figure size 432x288 with 1 Axes>"
            ]
          },
          "metadata": {
            "tags": []
          }
        }
      ]
    },
    {
      "cell_type": "code",
      "metadata": {
        "id": "mwnXXj7di1pN",
        "colab_type": "code",
        "outputId": "cee5bc35-84f6-4fb7-8039-6055fc2874cc",
        "colab": {
          "base_uri": "https://localhost:8080/",
          "height": 283
        }
      },
      "source": [
        "autocorrelation_plot(data_21_processed)\n",
        "pyplot.show()"
      ],
      "execution_count": 37,
      "outputs": [
        {
          "output_type": "display_data",
          "data": {
            "image/png": "[encoded data removed]",
            "text/plain": [
              "<Figure size 432x288 with 1 Axes>"
            ]
          },
          "metadata": {
            "tags": []
          }
        }
      ]
    },
    {
      "cell_type": "markdown",
      "metadata": {
        "id": "sLpUtANmUoM-",
        "colab_type": "text"
      },
      "source": [
        "# Fitting of Model by Arima"
      ]
    },
    {
      "cell_type": "code",
      "metadata": {
        "id": "Ha6FUY3Xi5Dn",
        "colab_type": "code",
        "outputId": "fe037569-a91f-4a08-861f-2d6d2afb8b31",
        "colab": {
          "base_uri": "https://localhost:8080/",
          "height": 581
        }
      },
      "source": [
        "# fit model 1 for household MAC000018.\n",
        "model_18 = ARIMA(data_18_processed, order=(5,1,0))\n",
        "model_fit_18 = model_18.fit(disp=0)\n",
        "print(model_fit_18.summary())"
      ],
      "execution_count": 38,
      "outputs": [
        {
          "output_type": "stream",
          "text": [
            "/usr/local/lib/python3.6/dist-packages/statsmodels/tsa/base/tsa_model.py:219: ValueWarning: A date index has been provided, but it has no associated frequency information and so will be ignored when e.g. forecasting.\n",
            "  ' ignored when e.g. forecasting.', ValueWarning)\n",
            "/usr/local/lib/python3.6/dist-packages/statsmodels/tsa/base/tsa_model.py:219: ValueWarning: A date index has been provided, but it has no associated frequency information and so will be ignored when e.g. forecasting.\n",
            "  ' ignored when e.g. forecasting.', ValueWarning)\n"
          ],
          "name": "stderr"
        },
        {
          "output_type": "stream",
          "text": [
            "                             ARIMA Model Results                              \n",
            "==============================================================================\n",
            "Dep. Variable:                  D.KWh   No. Observations:                39080\n",
            "Model:                 ARIMA(5, 1, 0)   Log Likelihood               30192.813\n",
            "Method:                       css-mle   S.D. of innovations              0.112\n",
            "Date:                Mon, 26 Aug 2019   AIC                         -60371.625\n",
            "Time:                        06:51:41   BIC                         -60311.612\n",
            "Sample:                             1   HQIC                        -60352.609\n",
            "                                                                              \n",
            "===============================================================================\n",
            "                  coef    std err          z      P>|z|      [0.025      0.975]\n",
            "-------------------------------------------------------------------------------\n",
            "const         2.94e-06      0.000      0.009      0.993      -0.001       0.001\n",
            "ar.L1.D.KWh    -0.1696      0.005    -33.604      0.000      -0.180      -0.160\n",
            "ar.L2.D.KWh    -0.2454      0.005    -48.127      0.000      -0.255      -0.235\n",
            "ar.L3.D.KWh    -0.1427      0.005    -27.453      0.000      -0.153      -0.133\n",
            "ar.L4.D.KWh    -0.0929      0.005    -18.227      0.000      -0.103      -0.083\n",
            "ar.L5.D.KWh    -0.0648      0.005    -12.833      0.000      -0.075      -0.055\n",
            "                                    Roots                                    \n",
            "=============================================================================\n",
            "                  Real          Imaginary           Modulus         Frequency\n",
            "-----------------------------------------------------------------------------\n",
            "AR.1            0.9173           -1.2727j            1.5688           -0.1506\n",
            "AR.2            0.9173           +1.2727j            1.5688            0.1506\n",
            "AR.3           -0.6488           -1.6614j            1.7836           -0.3093\n",
            "AR.4           -0.6488           +1.6614j            1.7836            0.3093\n",
            "AR.5           -1.9717           -0.0000j            1.9717           -0.5000\n",
            "-----------------------------------------------------------------------------\n"
          ],
          "name": "stdout"
        }
      ]
    },
    {
      "cell_type": "code",
      "metadata": {
        "id": "c3OJN_yxjNSk",
        "colab_type": "code",
        "outputId": "ab184601-23e8-4d13-df15-6a4b4b28fb7e",
        "colab": {
          "base_uri": "https://localhost:8080/",
          "height": 581
        }
      },
      "source": [
        "# fit model 2 for household MAC000020.\n",
        "model_20 = ARIMA(data_20_processed, order=(5,1,0))\n",
        "model_fit_20 = model_20.fit(disp=0)\n",
        "print(model_fit_20.summary())"
      ],
      "execution_count": 39,
      "outputs": [
        {
          "output_type": "stream",
          "text": [
            "/usr/local/lib/python3.6/dist-packages/statsmodels/tsa/base/tsa_model.py:219: ValueWarning: A date index has been provided, but it has no associated frequency information and so will be ignored when e.g. forecasting.\n",
            "  ' ignored when e.g. forecasting.', ValueWarning)\n",
            "/usr/local/lib/python3.6/dist-packages/statsmodels/tsa/base/tsa_model.py:219: ValueWarning: A date index has been provided, but it has no associated frequency information and so will be ignored when e.g. forecasting.\n",
            "  ' ignored when e.g. forecasting.', ValueWarning)\n"
          ],
          "name": "stderr"
        },
        {
          "output_type": "stream",
          "text": [
            "                             ARIMA Model Results                              \n",
            "==============================================================================\n",
            "Dep. Variable:                  D.KWh   No. Observations:                39077\n",
            "Model:                 ARIMA(5, 1, 0)   Log Likelihood               27173.282\n",
            "Method:                       css-mle   S.D. of innovations              0.121\n",
            "Date:                Mon, 26 Aug 2019   AIC                         -54332.565\n",
            "Time:                        06:51:49   BIC                         -54272.552\n",
            "Sample:                             1   HQIC                        -54313.548\n",
            "                                                                              \n",
            "===============================================================================\n",
            "                  coef    std err          z      P>|z|      [0.025      0.975]\n",
            "-------------------------------------------------------------------------------\n",
            "const       -4.326e-06      0.000     -0.016      0.987      -0.001       0.001\n",
            "ar.L1.D.KWh    -0.3920      0.005    -77.759      0.000      -0.402      -0.382\n",
            "ar.L2.D.KWh    -0.3631      0.005    -67.729      0.000      -0.374      -0.353\n",
            "ar.L3.D.KWh    -0.2548      0.006    -46.182      0.000      -0.266      -0.244\n",
            "ar.L4.D.KWh    -0.1530      0.005    -28.539      0.000      -0.164      -0.142\n",
            "ar.L5.D.KWh    -0.0843      0.005    -16.723      0.000      -0.094      -0.074\n",
            "                                    Roots                                    \n",
            "=============================================================================\n",
            "                  Real          Imaginary           Modulus         Frequency\n",
            "-----------------------------------------------------------------------------\n",
            "AR.1            0.7371           -1.2938j            1.4890           -0.1676\n",
            "AR.2            0.7371           +1.2938j            1.4890            0.1676\n",
            "AR.3           -1.7991           -0.0000j            1.7991           -0.5000\n",
            "AR.4           -0.7450           -1.5553j            1.7245           -0.3211\n",
            "AR.5           -0.7450           +1.5553j            1.7245            0.3211\n",
            "-----------------------------------------------------------------------------\n"
          ],
          "name": "stdout"
        }
      ]
    },
    {
      "cell_type": "code",
      "metadata": {
        "id": "ub1OhcrOjaXZ",
        "colab_type": "code",
        "outputId": "78a477e5-973e-4df8-f814-d52ec58d1d41",
        "colab": {
          "base_uri": "https://localhost:8080/",
          "height": 581
        }
      },
      "source": [
        "# fit model 3 for household MAC000018==21.\n",
        "model_21 = ARIMA(data_21_processed, order=(5,1,0))\n",
        "model_fit_21 = model_21.fit(disp=0)\n",
        "print(model_fit_21.summary())"
      ],
      "execution_count": 40,
      "outputs": [
        {
          "output_type": "stream",
          "text": [
            "/usr/local/lib/python3.6/dist-packages/statsmodels/tsa/base/tsa_model.py:219: ValueWarning: A date index has been provided, but it has no associated frequency information and so will be ignored when e.g. forecasting.\n",
            "  ' ignored when e.g. forecasting.', ValueWarning)\n",
            "/usr/local/lib/python3.6/dist-packages/statsmodels/tsa/base/tsa_model.py:219: ValueWarning: A date index has been provided, but it has no associated frequency information and so will be ignored when e.g. forecasting.\n",
            "  ' ignored when e.g. forecasting.', ValueWarning)\n"
          ],
          "name": "stderr"
        },
        {
          "output_type": "stream",
          "text": [
            "                             ARIMA Model Results                              \n",
            "==============================================================================\n",
            "Dep. Variable:                  D.KWh   No. Observations:                39077\n",
            "Model:                 ARIMA(5, 1, 0)   Log Likelihood               18582.135\n",
            "Method:                       css-mle   S.D. of innovations              0.150\n",
            "Date:                Mon, 26 Aug 2019   AIC                         -37150.269\n",
            "Time:                        06:51:55   BIC                         -37090.256\n",
            "Sample:                             1   HQIC                        -37131.253\n",
            "                                                                              \n",
            "===============================================================================\n",
            "                  coef    std err          z      P>|z|      [0.025      0.975]\n",
            "-------------------------------------------------------------------------------\n",
            "const        5.801e-06      0.000      0.013      0.990      -0.001       0.001\n",
            "ar.L1.D.KWh    -0.3326      0.005    -65.823      0.000      -0.343      -0.323\n",
            "ar.L2.D.KWh    -0.1735      0.005    -32.688      0.000      -0.184      -0.163\n",
            "ar.L3.D.KWh    -0.0644      0.005    -11.992      0.000      -0.075      -0.054\n",
            "ar.L4.D.KWh    -0.0863      0.005    -16.250      0.000      -0.097      -0.076\n",
            "ar.L5.D.KWh    -0.0469      0.005     -9.276      0.000      -0.057      -0.037\n",
            "                                    Roots                                    \n",
            "=============================================================================\n",
            "                  Real          Imaginary           Modulus         Frequency\n",
            "-----------------------------------------------------------------------------\n",
            "AR.1            1.0992           -1.3776j            1.7624           -0.1428\n",
            "AR.2            1.0992           +1.3776j            1.7624            0.1428\n",
            "AR.3           -0.9135           -1.5071j            1.7623           -0.3367\n",
            "AR.4           -0.9135           +1.5071j            1.7623            0.3367\n",
            "AR.5           -2.2116           -0.0000j            2.2116           -0.5000\n",
            "-----------------------------------------------------------------------------\n"
          ],
          "name": "stdout"
        }
      ]
    },
    {
      "cell_type": "code",
      "metadata": {
        "id": "Ms4s4k6CjsAA",
        "colab_type": "code",
        "outputId": "4c3d0b23-d900-46e4-ad3a-c63ca216ce11",
        "colab": {
          "base_uri": "https://localhost:8080/",
          "height": 34
        }
      },
      "source": [
        "X = data_18_processed.values\n",
        "X.shape"
      ],
      "execution_count": 41,
      "outputs": [
        {
          "output_type": "execute_result",
          "data": {
            "text/plain": [
              "(39081,)"
            ]
          },
          "metadata": {
            "tags": []
          },
          "execution_count": 41
        }
      ]
    },
    {
      "cell_type": "code",
      "metadata": {
        "id": "K8dmET8BkBbY",
        "colab_type": "code",
        "outputId": "83ecefed-16d4-4229-d3ee-db2f79cd453f",
        "colab": {
          "base_uri": "https://localhost:8080/",
          "height": 34
        }
      },
      "source": [
        "Y = data_20_processed.values\n",
        "Y.shape"
      ],
      "execution_count": 42,
      "outputs": [
        {
          "output_type": "execute_result",
          "data": {
            "text/plain": [
              "(39078,)"
            ]
          },
          "metadata": {
            "tags": []
          },
          "execution_count": 42
        }
      ]
    },
    {
      "cell_type": "code",
      "metadata": {
        "id": "NdEbry0NkFgf",
        "colab_type": "code",
        "outputId": "40cc91b8-c992-47ac-c7e8-0341f458f910",
        "colab": {
          "base_uri": "https://localhost:8080/",
          "height": 34
        }
      },
      "source": [
        "Z = data_21_processed.values\n",
        "Z.shape"
      ],
      "execution_count": 43,
      "outputs": [
        {
          "output_type": "execute_result",
          "data": {
            "text/plain": [
              "(39078,)"
            ]
          },
          "metadata": {
            "tags": []
          },
          "execution_count": 43
        }
      ]
    },
    {
      "cell_type": "code",
      "metadata": {
        "id": "POHdBhlBkIKG",
        "colab_type": "code",
        "colab": {}
      },
      "source": [
        "size_18=39030\n",
        "size_20=39030\n",
        "size_21=39030"
      ],
      "execution_count": 0,
      "outputs": []
    },
    {
      "cell_type": "markdown",
      "metadata": {
        "id": "f4A8Q6jTVE86",
        "colab_type": "text"
      },
      "source": [
        "# splitting the data into train and test for each household seperately."
      ]
    },
    {
      "cell_type": "code",
      "metadata": {
        "id": "r_QOgMB6keum",
        "colab_type": "code",
        "colab": {}
      },
      "source": [
        "train_18, test_18 = X[0:size_18], X[size_18:len(X)]\n",
        "train_20, test_20 = Y[0:size_20], Y[size_20:len(Y)]\n",
        "train_21, test_21 = Z[0:size_21], Z[size_21:len(Z)]"
      ],
      "execution_count": 0,
      "outputs": []
    },
    {
      "cell_type": "code",
      "metadata": {
        "id": "2-aD9Snzk3h4",
        "colab_type": "code",
        "outputId": "60aeb08a-1b98-46e1-ad7e-a3ca5025273f",
        "colab": {
          "base_uri": "https://localhost:8080/",
          "height": 34
        }
      },
      "source": [
        "train_18.shape"
      ],
      "execution_count": 46,
      "outputs": [
        {
          "output_type": "execute_result",
          "data": {
            "text/plain": [
              "(39030,)"
            ]
          },
          "metadata": {
            "tags": []
          },
          "execution_count": 46
        }
      ]
    },
    {
      "cell_type": "code",
      "metadata": {
        "id": "4O8K1vS5k-tJ",
        "colab_type": "code",
        "outputId": "6f87a2f8-f4f8-4cb4-8f12-05b51f26ac11",
        "colab": {
          "base_uri": "https://localhost:8080/",
          "height": 34
        }
      },
      "source": [
        "test_18.shape"
      ],
      "execution_count": 47,
      "outputs": [
        {
          "output_type": "execute_result",
          "data": {
            "text/plain": [
              "(51,)"
            ]
          },
          "metadata": {
            "tags": []
          },
          "execution_count": 47
        }
      ]
    },
    {
      "cell_type": "code",
      "metadata": {
        "id": "7CbUGjPZlBrD",
        "colab_type": "code",
        "outputId": "add17d1f-abce-4af9-af78-850a6d468e56",
        "colab": {
          "base_uri": "https://localhost:8080/",
          "height": 34
        }
      },
      "source": [
        "train_20.shape\n"
      ],
      "execution_count": 48,
      "outputs": [
        {
          "output_type": "execute_result",
          "data": {
            "text/plain": [
              "(39030,)"
            ]
          },
          "metadata": {
            "tags": []
          },
          "execution_count": 48
        }
      ]
    },
    {
      "cell_type": "code",
      "metadata": {
        "id": "DjjWFVFVlGJa",
        "colab_type": "code",
        "outputId": "a1a9a2c1-0d5b-4acc-8875-f8488b4744d1",
        "colab": {
          "base_uri": "https://localhost:8080/",
          "height": 34
        }
      },
      "source": [
        "test_20.shape"
      ],
      "execution_count": 49,
      "outputs": [
        {
          "output_type": "execute_result",
          "data": {
            "text/plain": [
              "(48,)"
            ]
          },
          "metadata": {
            "tags": []
          },
          "execution_count": 49
        }
      ]
    },
    {
      "cell_type": "code",
      "metadata": {
        "id": "GEMxLkx4lJBh",
        "colab_type": "code",
        "outputId": "54f7eba9-a16f-47e3-a7a5-436e49680883",
        "colab": {
          "base_uri": "https://localhost:8080/",
          "height": 34
        }
      },
      "source": [
        "test_21.shape"
      ],
      "execution_count": 50,
      "outputs": [
        {
          "output_type": "execute_result",
          "data": {
            "text/plain": [
              "(48,)"
            ]
          },
          "metadata": {
            "tags": []
          },
          "execution_count": 50
        }
      ]
    },
    {
      "cell_type": "code",
      "metadata": {
        "id": "aK1Xx4U-lMLJ",
        "colab_type": "code",
        "outputId": "b013b62e-2c99-439c-aa4c-582748550452",
        "colab": {
          "base_uri": "https://localhost:8080/",
          "height": 34
        }
      },
      "source": [
        "train_21.shape"
      ],
      "execution_count": 51,
      "outputs": [
        {
          "output_type": "execute_result",
          "data": {
            "text/plain": [
              "(39030,)"
            ]
          },
          "metadata": {
            "tags": []
          },
          "execution_count": 51
        }
      ]
    },
    {
      "cell_type": "code",
      "metadata": {
        "id": "ej0TkbmdlOZ_",
        "colab_type": "code",
        "colab": {}
      },
      "source": [
        "history_18 = [x for x in train_18]\n",
        "history_20 = [x for x in train_20]\n",
        "history_21 = [x for x in train_21]"
      ],
      "execution_count": 0,
      "outputs": []
    },
    {
      "cell_type": "code",
      "metadata": {
        "id": "ZiZnsa5Yle9N",
        "colab_type": "code",
        "colab": {}
      },
      "source": [
        "predictions_18 = list()\n",
        "predictions_20 = list()\n",
        "predictions_21 = list()\n"
      ],
      "execution_count": 0,
      "outputs": []
    },
    {
      "cell_type": "markdown",
      "metadata": {
        "id": "19CQpWEGVQPR",
        "colab_type": "text"
      },
      "source": [
        "# Making **Predictions**"
      ]
    },
    {
      "cell_type": "code",
      "metadata": {
        "id": "SgqNyWLwlo5C",
        "colab_type": "code",
        "colab": {}
      },
      "source": [
        "#predictions for household MAC000018.\n",
        "for t in range(len(test_18)):\n",
        "\tmodel_18 = ARIMA(history_18, order=(5,1,0))\n",
        "\tmodel_fit_18 = model_18.fit(disp=0)\n",
        "\toutput_18 = model_fit_18.forecast()\n",
        "\tyhat_18 = output_18[0]\n",
        "\tpredictions_18.append(yhat_18)\n",
        "\tobs_18 = test_18[t]\n",
        "\thistory_18.append(obs_18)"
      ],
      "execution_count": 0,
      "outputs": []
    },
    {
      "cell_type": "code",
      "metadata": {
        "id": "MkNYjH2pmPz9",
        "colab_type": "code",
        "colab": {}
      },
      "source": [
        "#predictions for household MAC000020.\n",
        "for t in range(len(test_20)):\n",
        "\tmodel_20 = ARIMA(history_20, order=(5,1,0))\n",
        "\tmodel_fit_20 = model_20.fit(disp=0)\n",
        "\toutput_20 = model_fit_20.forecast()\n",
        "\tyhat_20 = output_20[0]\n",
        "\tpredictions_20.append(yhat_20)\n",
        "\tobs_20 = test_20[t]\n",
        "\thistory_20.append(obs_20)"
      ],
      "execution_count": 0,
      "outputs": []
    },
    {
      "cell_type": "code",
      "metadata": {
        "id": "Gq6xxpLNmqUn",
        "colab_type": "code",
        "colab": {}
      },
      "source": [
        "#predictions for household MAC000021.\n",
        "for t in range(len(test_21)):\n",
        "\tmodel_21 = ARIMA(history_21, order=(5,1,0))\n",
        "\tmodel_fit_21 = model_21.fit(disp=0)\n",
        "\toutput_21 = model_fit_21.forecast()\n",
        "\tyhat_21 = output_21[0]\n",
        "\tpredictions_21.append(yhat_21)\n",
        "\tobs_21 = test_21[t]\n",
        "\thistory_21.append(obs_21)\n",
        "\t"
      ],
      "execution_count": 0,
      "outputs": []
    },
    {
      "cell_type": "markdown",
      "metadata": {
        "id": "UBYMAgdWVlOy",
        "colab_type": "text"
      },
      "source": [
        "# Visualise and Compare actual values and predicted values."
      ]
    },
    {
      "cell_type": "code",
      "metadata": {
        "id": "QA_AVQeHnPgJ",
        "colab_type": "code",
        "outputId": "6ceb79ae-b144-4bc2-fe64-3221e68c5502",
        "colab": {
          "base_uri": "https://localhost:8080/",
          "height": 282
        }
      },
      "source": [
        "# plot1 for household MAC000018.\n",
        "pyplot.plot(test_18,label='Actual')\n",
        "pyplot.plot(predictions_18, color='red',label='predicted')\n",
        "plt.legend()\n",
        "plt.title(\"Energy usage in kwh for household 'MAC000018'\", fontsize=14, fontstyle='italic', fontweight='bold')\n",
        "pyplot.show()"
      ],
      "execution_count": 0,
      "outputs": [
        {
          "output_type": "display_data",
          "data": {
            "image/png": "[encoded data removed]",
            "text/plain": [
              "<Figure size 432x288 with 1 Axes>"
            ]
          },
          "metadata": {
            "tags": []
          }
        }
      ]
    },
    {
      "cell_type": "code",
      "metadata": {
        "id": "R7S6CykTnPa5",
        "colab_type": "code",
        "outputId": "72f5e816-505e-48ca-c4b0-5b5a6401b472",
        "colab": {
          "base_uri": "https://localhost:8080/",
          "height": 282
        }
      },
      "source": [
        "# plot2 for household MAC000020.\n",
        "pyplot.plot(test_20,label='Actual')\n",
        "pyplot.plot(predictions_20, color='red',label='predicted')\n",
        "plt.legend()\n",
        "plt.title(\"Energy usage in kwh for household 'MAC000020'\", fontsize=14, fontstyle='italic', fontweight='bold')\n",
        "pyplot.show()"
      ],
      "execution_count": 0,
      "outputs": [
        {
          "output_type": "display_data",
          "data": {
            "image/png": "[encoded data removed]",
            "text/plain": [
              "<Figure size 432x288 with 1 Axes>"
            ]
          },
          "metadata": {
            "tags": []
          }
        }
      ]
    },
    {
      "cell_type": "code",
      "metadata": {
        "id": "FbXiX_U-nkt8",
        "colab_type": "code",
        "outputId": "7d72b047-c315-4817-9137-3c1967978c6e",
        "colab": {
          "base_uri": "https://localhost:8080/",
          "height": 282
        }
      },
      "source": [
        "# plot3 for household MAC000021.\n",
        "pyplot.plot(test_21,label='actual')\n",
        "pyplot.plot(predictions_21, color='red',label='predicted')\n",
        "plt.legend()\n",
        "plt.title(\"Energy usage in kwh for household 'MAC000021'\", fontsize=14, fontstyle='italic', fontweight='bold')\n",
        "pyplot.show()"
      ],
      "execution_count": 0,
      "outputs": [
        {
          "output_type": "display_data",
          "data": {
            "image/png": "[encoded data removed]",
            "text/plain": [
              "<Figure size 432x288 with 1 Axes>"
            ]
          },
          "metadata": {
            "tags": []
          }
        }
      ]
    },
    {
      "cell_type": "markdown",
      "metadata": {
        "id": "uDZ2qP50V8wE",
        "colab_type": "text"
      },
      "source": [
        "# Checking of models performance by different ways"
      ]
    },
    {
      "cell_type": "code",
      "metadata": {
        "id": "CauzwuS1tZvn",
        "colab_type": "code",
        "colab": {}
      },
      "source": [
        "def report(a,b):\n",
        "  #give a,b as arguements  in form of  i.e (test_18,predictions_18).\n",
        "  mse = mean_squared_error(a, b)\n",
        "  rmse = sqrt(mse)\n",
        "  mae = mean_absolute_error(a,b)\n",
        "  a=print(\"mean square error:\",mse)\n",
        "  b=print(\"square root mean square error:\",rmse)\n",
        "  c=print(\"mean absolute error:\",mae)\n",
        "  \n",
        "  return a,b,c"
      ],
      "execution_count": 0,
      "outputs": []
    },
    {
      "cell_type": "code",
      "metadata": {
        "id": "GdU-skgutZtj",
        "colab_type": "code",
        "outputId": "47fd21ef-7a72-4fd0-af4b-12143605ef72",
        "colab": {
          "base_uri": "https://localhost:8080/",
          "height": 85
        }
      },
      "source": [
        "report(test_18,predictions_18)    #calling of function for household MAC000018."
      ],
      "execution_count": 0,
      "outputs": [
        {
          "output_type": "stream",
          "text": [
            "mean square error: 0.005855923940638889\n",
            "square root mean square error: 0.0765240089164106\n",
            "mean absolute error: 0.04341732635742607\n"
          ],
          "name": "stdout"
        },
        {
          "output_type": "execute_result",
          "data": {
            "text/plain": [
              "(None, None, None)"
            ]
          },
          "metadata": {
            "tags": []
          },
          "execution_count": 54
        }
      ]
    },
    {
      "cell_type": "code",
      "metadata": {
        "id": "uQILz5A9tZrj",
        "colab_type": "code",
        "outputId": "d8d9f8e4-de3b-4a43-dff6-134f564b2c99",
        "colab": {
          "base_uri": "https://localhost:8080/",
          "height": 85
        }
      },
      "source": [
        "report(test_20,predictions_20)      #calling of function for household MAC000020."
      ],
      "execution_count": 0,
      "outputs": [
        {
          "output_type": "stream",
          "text": [
            "mean square error: 0.024837793832365767\n",
            "square root mean square error: 0.15760010733614926\n",
            "mean absolute error: 0.08224576602273227\n"
          ],
          "name": "stdout"
        },
        {
          "output_type": "execute_result",
          "data": {
            "text/plain": [
              "(None, None, None)"
            ]
          },
          "metadata": {
            "tags": []
          },
          "execution_count": 55
        }
      ]
    },
    {
      "cell_type": "code",
      "metadata": {
        "id": "jbJrjZhTvwbx",
        "colab_type": "code",
        "outputId": "bfb92bc3-44f4-441a-db9a-6e1a7c601f2b",
        "colab": {
          "base_uri": "https://localhost:8080/",
          "height": 85
        }
      },
      "source": [
        "report(test_21,predictions_21)         #calling of function for household MAC000021."
      ],
      "execution_count": 0,
      "outputs": [
        {
          "output_type": "stream",
          "text": [
            "mean square error: 0.006111664251133654\n",
            "square root mean square error: 0.07817713381247521\n",
            "mean absolute error: 0.057249801186927435\n"
          ],
          "name": "stdout"
        },
        {
          "output_type": "execute_result",
          "data": {
            "text/plain": [
              "(None, None, None)"
            ]
          },
          "metadata": {
            "tags": []
          },
          "execution_count": 56
        }
      ]
    },
    {
      "cell_type": "code",
      "metadata": {
        "id": "0DTARJocvypS",
        "colab_type": "code",
        "colab": {}
      },
      "source": [
        "predictions1_18=[]\n",
        "for i in range(len(predictions_18)):\n",
        "  predictions1_18.append(predictions_18[i][0])\n",
        "predictions1_20=[]\n",
        "for i in range(len(predictions_20)):\n",
        "  predictions1_20.append(predictions_20[i][0])\n",
        "predictions1_21=[]\n",
        "for i in range(len(predictions_21)):\n",
        "  predictions1_21.append(predictions_21[i][0])"
      ],
      "execution_count": 0,
      "outputs": []
    },
    {
      "cell_type": "markdown",
      "metadata": {
        "id": "_8lIuZ6RWtOt",
        "colab_type": "text"
      },
      "source": [
        "# Making DataFrame of actual and predicted values for camparision"
      ]
    },
    {
      "cell_type": "code",
      "metadata": {
        "id": "ynk4IpytwgQH",
        "colab_type": "code",
        "colab": {}
      },
      "source": [
        "df_18=pd.DataFrame()\n",
        "df_18=pd.DataFrame({'Actual_18':test_18, 'Predicted_18':predictions1_18})  \n",
        "\n",
        "df_20=pd.DataFrame()\n",
        "df_20=pd.DataFrame({'Actual_20':test_20, 'Predicted_20':predictions1_20})  \n",
        "\n",
        "df_21=pd.DataFrame()\n",
        "df_21=pd.DataFrame({'Actual_21':test_21, 'Predicted_21':predictions1_21})  \n"
      ],
      "execution_count": 0,
      "outputs": []
    },
    {
      "cell_type": "code",
      "metadata": {
        "id": "YrwRv-wtxP_g",
        "colab_type": "code",
        "outputId": "f5081b3b-4b2e-467f-f01a-2efc4ee2fae5",
        "colab": {
          "base_uri": "https://localhost:8080/",
          "height": 204
        }
      },
      "source": [
        "df_combined=pd.concat([df_18, df_20], axis=1)\n",
        "\n",
        "df_combined=pd.concat([df_combined, df_21], axis=1)\n",
        "df_combined.head()"
      ],
      "execution_count": 0,
      "outputs": [
        {
          "output_type": "execute_result",
          "data": {
            "text/html": [
              "<div>\n",
              "<style scoped>\n",
              "    .dataframe tbody tr th:only-of-type {\n",
              "        vertical-align: middle;\n",
              "    }\n",
              "\n",
              "    .dataframe tbody tr th {\n",
              "        vertical-align: top;\n",
              "    }\n",
              "\n",
              "    .dataframe thead th {\n",
              "        text-align: right;\n",
              "    }\n",
              "</style>\n",
              "<table border=\"1\" class=\"dataframe\">\n",
              "  <thead>\n",
              "    <tr style=\"text-align: right;\">\n",
              "      <th></th>\n",
              "      <th>Actual_18</th>\n",
              "      <th>Predicted_18</th>\n",
              "      <th>Actual_20</th>\n",
              "      <th>Predicted_20</th>\n",
              "      <th>Actual_21</th>\n",
              "      <th>Predicted_21</th>\n",
              "    </tr>\n",
              "  </thead>\n",
              "  <tbody>\n",
              "    <tr>\n",
              "      <th>0</th>\n",
              "      <td>0.469</td>\n",
              "      <td>0.529028</td>\n",
              "      <td>0.053</td>\n",
              "      <td>0.079660</td>\n",
              "      <td>0.428</td>\n",
              "      <td>0.476922</td>\n",
              "    </tr>\n",
              "    <tr>\n",
              "      <th>1</th>\n",
              "      <td>0.426</td>\n",
              "      <td>0.453963</td>\n",
              "      <td>0.068</td>\n",
              "      <td>0.074048</td>\n",
              "      <td>0.408</td>\n",
              "      <td>0.448331</td>\n",
              "    </tr>\n",
              "    <tr>\n",
              "      <th>2</th>\n",
              "      <td>0.148</td>\n",
              "      <td>0.446057</td>\n",
              "      <td>0.047</td>\n",
              "      <td>0.067700</td>\n",
              "      <td>0.349</td>\n",
              "      <td>0.422178</td>\n",
              "    </tr>\n",
              "    <tr>\n",
              "      <th>3</th>\n",
              "      <td>0.138</td>\n",
              "      <td>0.216796</td>\n",
              "      <td>0.055</td>\n",
              "      <td>0.049758</td>\n",
              "      <td>0.364</td>\n",
              "      <td>0.368812</td>\n",
              "    </tr>\n",
              "    <tr>\n",
              "      <th>4</th>\n",
              "      <td>0.134</td>\n",
              "      <td>0.218260</td>\n",
              "      <td>0.060</td>\n",
              "      <td>0.056819</td>\n",
              "      <td>0.341</td>\n",
              "      <td>0.371564</td>\n",
              "    </tr>\n",
              "  </tbody>\n",
              "</table>\n",
              "</div>"
            ],
            "text/plain": [
              "   Actual_18  Predicted_18  Actual_20  Predicted_20  Actual_21  Predicted_21\n",
              "0      0.469      0.529028      0.053      0.079660      0.428      0.476922\n",
              "1      0.426      0.453963      0.068      0.074048      0.408      0.448331\n",
              "2      0.148      0.446057      0.047      0.067700      0.349      0.422178\n",
              "3      0.138      0.216796      0.055      0.049758      0.364      0.368812\n",
              "4      0.134      0.218260      0.060      0.056819      0.341      0.371564"
            ]
          },
          "metadata": {
            "tags": []
          },
          "execution_count": 59
        }
      ]
    },
    {
      "cell_type": "code",
      "metadata": {
        "id": "MMUrLooHiHev",
        "colab_type": "code",
        "colab": {}
      },
      "source": [
        ""
      ],
      "execution_count": 0,
      "outputs": []
    }
  ]
}